{
 "cells": [
  {
   "cell_type": "markdown",
   "metadata": {},
   "source": [
    "# Домашнее задание №1 - EDA. Уменьшение размерности"
   ]
  },
  {
   "cell_type": "markdown",
   "metadata": {},
   "source": [
    "В этой домашке вам предстоит немножко углубиться в изучение **показателей крови**, а именно посмотреть по каким параметрам общего анализа крови ставится тот или иной **вид анемии**. \n",
    "\n",
    "Для анализа мы подобрали большой датасет, но дадим поменьше. Вам нужно будет поработать с **EDA, статистикой и уменьшением размерности**. Мы всё покажем, а вы всё сделаете - не волнуйтесь!"
   ]
  },
  {
   "cell_type": "code",
   "execution_count": 1,
   "metadata": {},
   "outputs": [],
   "source": [
    "import matplotlib.pyplot as plt\n",
    "import pandas as pd\n",
    "import seaborn as sns\n",
    "from sklearn.decomposition import PCA\n",
    "from sklearn.manifold import TSNE\n",
    "from sklearn.preprocessing import StandardScaler\n",
    "from scipy import stats"
   ]
  },
  {
   "cell_type": "code",
   "execution_count": null,
   "metadata": {},
   "outputs": [],
   "source": []
  },
  {
   "cell_type": "markdown",
   "metadata": {},
   "source": [
    "Мы будем использовать общедоступный датасет **Anemia Disease Dataset**. \n",
    "Любую работу в анализе данных стоит начинать с самостоятельного изучения этих самых данных, с которыми вам нужно поработать. Почитайте описание этого датасета по ссылкам ниже (оно вам точно пригодится), поймите в каких колонках что представлено, какого характера данные в них должны быть (минимальное/максимальное значение, число или текст), сколько тут пациентов и есть ли какие-то тонкости относительно качества данных. Что есть признаки, а что есть таргет для будущих анализа и предсказаний.\n",
    "\n",
    "[Датасет на kaggle](https://www.kaggle.com/code/serhathoca/anemia-disease-dataset/notebook)\n",
    "\n",
    "[Публикация, из которой взят датасет](https://www.sciencedirect.com/science/article/abs/pii/S174680942030361X)\n",
    "\n",
    "Но помните: *Ушам своим не верьте вовсе, а глазам — только наполовину.* © «Убийство на улице Морг» Эдгар Аллан По. \n",
    "\n",
    "Так что даже если у вас есть супер-описание вашего нового датасета, то на вашей совести проверить эти данные перед работой (даже если его проверяли специалисты и эксперты). Делайте EDA, чтобы узнать что-то новое о данных!"
   ]
  },
  {
   "cell_type": "code",
   "execution_count": null,
   "metadata": {},
   "outputs": [],
   "source": []
  },
  {
   "cell_type": "markdown",
   "metadata": {},
   "source": [
    "**Небольшое отступление**: старайтесь приводить наглядные и понятные графики, с которых легко и быстро можно считать информацию о ваших результатах. Помните, мы говорили про ширину бинов и масштаб гистограмм на лекции? График должен содержать подписи осей, название графика, шкалы, цвета, легенды и т.д. Если у вас много однотипных графиков, лучше оформлять их в виде панели, т.е. с использованием `fig, ax = plt.subplots()`.\n",
    "\n",
    "Best practice: *Лучший график - это тот, который можно разобрать, не читая текст.*"
   ]
  },
  {
   "cell_type": "markdown",
   "metadata": {},
   "source": [
    "> Так, я как учитель напишу что-то тут"
   ]
  },
  {
   "cell_type": "code",
   "execution_count": null,
   "metadata": {},
   "outputs": [],
   "source": []
  },
  {
   "cell_type": "markdown",
   "metadata": {},
   "source": [
    "## Часть 0. Загружаем данные (20 баллов)"
   ]
  },
  {
   "cell_type": "markdown",
   "metadata": {},
   "source": [
    "Загружаем датасет"
   ]
  },
  {
   "cell_type": "code",
   "execution_count": 36,
   "metadata": {},
   "outputs": [
    {
     "data": {
      "text/html": [
       "<div>\n",
       "<style scoped>\n",
       "    .dataframe tbody tr th:only-of-type {\n",
       "        vertical-align: middle;\n",
       "    }\n",
       "\n",
       "    .dataframe tbody tr th {\n",
       "        vertical-align: top;\n",
       "    }\n",
       "\n",
       "    .dataframe thead th {\n",
       "        text-align: right;\n",
       "    }\n",
       "</style>\n",
       "<table border=\"1\" class=\"dataframe\">\n",
       "  <thead>\n",
       "    <tr style=\"text-align: right;\">\n",
       "      <th></th>\n",
       "      <th>GENDER</th>\n",
       "      <th>WBC</th>\n",
       "      <th>NE#</th>\n",
       "      <th>LY#</th>\n",
       "      <th>MO#</th>\n",
       "      <th>EO#</th>\n",
       "      <th>BA#</th>\n",
       "      <th>RBC</th>\n",
       "      <th>HGB</th>\n",
       "      <th>HCT</th>\n",
       "      <th>...</th>\n",
       "      <th>SDTSD</th>\n",
       "      <th>TSD</th>\n",
       "      <th>FERRITTE</th>\n",
       "      <th>FOLATE</th>\n",
       "      <th>B12</th>\n",
       "      <th>All_Class</th>\n",
       "      <th>HGB_Anemia_Class</th>\n",
       "      <th>Iron_anemia_Class</th>\n",
       "      <th>Folate_anemia_class</th>\n",
       "      <th>B12_Anemia_class</th>\n",
       "    </tr>\n",
       "  </thead>\n",
       "  <tbody>\n",
       "    <tr>\n",
       "      <th>0</th>\n",
       "      <td>1</td>\n",
       "      <td>10.630000</td>\n",
       "      <td>6.31</td>\n",
       "      <td>2.79</td>\n",
       "      <td>0.91</td>\n",
       "      <td>0.56</td>\n",
       "      <td>0.06</td>\n",
       "      <td>4.31</td>\n",
       "      <td>12.70</td>\n",
       "      <td>37.60</td>\n",
       "      <td>...</td>\n",
       "      <td>248.90</td>\n",
       "      <td>40.176778</td>\n",
       "      <td>194.000000</td>\n",
       "      <td>5.06</td>\n",
       "      <td>178.2</td>\n",
       "      <td>4</td>\n",
       "      <td>0</td>\n",
       "      <td>0</td>\n",
       "      <td>0</td>\n",
       "      <td>1</td>\n",
       "    </tr>\n",
       "    <tr>\n",
       "      <th>1</th>\n",
       "      <td>1</td>\n",
       "      <td>5.080000</td>\n",
       "      <td>2.50</td>\n",
       "      <td>1.87</td>\n",
       "      <td>0.43</td>\n",
       "      <td>0.26</td>\n",
       "      <td>0.02</td>\n",
       "      <td>4.34</td>\n",
       "      <td>12.80</td>\n",
       "      <td>36.90</td>\n",
       "      <td>...</td>\n",
       "      <td>348.48</td>\n",
       "      <td>33.482553</td>\n",
       "      <td>57.370000</td>\n",
       "      <td>9.88</td>\n",
       "      <td>197.7</td>\n",
       "      <td>4</td>\n",
       "      <td>0</td>\n",
       "      <td>0</td>\n",
       "      <td>0</td>\n",
       "      <td>1</td>\n",
       "    </tr>\n",
       "    <tr>\n",
       "      <th>2</th>\n",
       "      <td>1</td>\n",
       "      <td>13.680000</td>\n",
       "      <td>9.40</td>\n",
       "      <td>2.69</td>\n",
       "      <td>1.55</td>\n",
       "      <td>0.03</td>\n",
       "      <td>0.01</td>\n",
       "      <td>3.18</td>\n",
       "      <td>9.40</td>\n",
       "      <td>27.50</td>\n",
       "      <td>...</td>\n",
       "      <td>357.27</td>\n",
       "      <td>20.144429</td>\n",
       "      <td>114.200000</td>\n",
       "      <td>8.37</td>\n",
       "      <td>143.0</td>\n",
       "      <td>4</td>\n",
       "      <td>0</td>\n",
       "      <td>0</td>\n",
       "      <td>0</td>\n",
       "      <td>1</td>\n",
       "    </tr>\n",
       "    <tr>\n",
       "      <th>3</th>\n",
       "      <td>1</td>\n",
       "      <td>5.600000</td>\n",
       "      <td>3.94</td>\n",
       "      <td>0.83</td>\n",
       "      <td>0.54</td>\n",
       "      <td>0.26</td>\n",
       "      <td>0.03</td>\n",
       "      <td>3.35</td>\n",
       "      <td>10.50</td>\n",
       "      <td>31.40</td>\n",
       "      <td>...</td>\n",
       "      <td>360.60</td>\n",
       "      <td>27.731559</td>\n",
       "      <td>214.200000</td>\n",
       "      <td>6.39</td>\n",
       "      <td>139.9</td>\n",
       "      <td>4</td>\n",
       "      <td>0</td>\n",
       "      <td>0</td>\n",
       "      <td>0</td>\n",
       "      <td>1</td>\n",
       "    </tr>\n",
       "    <tr>\n",
       "      <th>4</th>\n",
       "      <td>1</td>\n",
       "      <td>3.570000</td>\n",
       "      <td>2.03</td>\n",
       "      <td>1.25</td>\n",
       "      <td>0.10</td>\n",
       "      <td>0.18</td>\n",
       "      <td>0.01</td>\n",
       "      <td>1.31</td>\n",
       "      <td>5.10</td>\n",
       "      <td>14.30</td>\n",
       "      <td>...</td>\n",
       "      <td>223.28</td>\n",
       "      <td>78.860623</td>\n",
       "      <td>303.400000</td>\n",
       "      <td>4.30</td>\n",
       "      <td>50.0</td>\n",
       "      <td>4</td>\n",
       "      <td>0</td>\n",
       "      <td>0</td>\n",
       "      <td>0</td>\n",
       "      <td>1</td>\n",
       "    </tr>\n",
       "    <tr>\n",
       "      <th>...</th>\n",
       "      <td>...</td>\n",
       "      <td>...</td>\n",
       "      <td>...</td>\n",
       "      <td>...</td>\n",
       "      <td>...</td>\n",
       "      <td>...</td>\n",
       "      <td>...</td>\n",
       "      <td>...</td>\n",
       "      <td>...</td>\n",
       "      <td>...</td>\n",
       "      <td>...</td>\n",
       "      <td>...</td>\n",
       "      <td>...</td>\n",
       "      <td>...</td>\n",
       "      <td>...</td>\n",
       "      <td>...</td>\n",
       "      <td>...</td>\n",
       "      <td>...</td>\n",
       "      <td>...</td>\n",
       "      <td>...</td>\n",
       "      <td>...</td>\n",
       "    </tr>\n",
       "    <tr>\n",
       "      <th>1420</th>\n",
       "      <td>1</td>\n",
       "      <td>9.550000</td>\n",
       "      <td>5.88</td>\n",
       "      <td>3.04</td>\n",
       "      <td>0.55</td>\n",
       "      <td>0.03</td>\n",
       "      <td>0.05</td>\n",
       "      <td>4.81</td>\n",
       "      <td>11.86</td>\n",
       "      <td>38.03</td>\n",
       "      <td>...</td>\n",
       "      <td>622.00</td>\n",
       "      <td>5.948553</td>\n",
       "      <td>14.970000</td>\n",
       "      <td>16.01</td>\n",
       "      <td>1537.0</td>\n",
       "      <td>2</td>\n",
       "      <td>0</td>\n",
       "      <td>1</td>\n",
       "      <td>0</td>\n",
       "      <td>0</td>\n",
       "    </tr>\n",
       "    <tr>\n",
       "      <th>1421</th>\n",
       "      <td>0</td>\n",
       "      <td>8.436995</td>\n",
       "      <td>0.77</td>\n",
       "      <td>0.86</td>\n",
       "      <td>0.17</td>\n",
       "      <td>0.03</td>\n",
       "      <td>0.02</td>\n",
       "      <td>3.72</td>\n",
       "      <td>8.70</td>\n",
       "      <td>28.10</td>\n",
       "      <td>...</td>\n",
       "      <td>312.40</td>\n",
       "      <td>8.322663</td>\n",
       "      <td>22.995831</td>\n",
       "      <td>5.05</td>\n",
       "      <td>87.7</td>\n",
       "      <td>2</td>\n",
       "      <td>0</td>\n",
       "      <td>1</td>\n",
       "      <td>0</td>\n",
       "      <td>0</td>\n",
       "    </tr>\n",
       "    <tr>\n",
       "      <th>1422</th>\n",
       "      <td>0</td>\n",
       "      <td>7.180000</td>\n",
       "      <td>4.36</td>\n",
       "      <td>2.04</td>\n",
       "      <td>0.53</td>\n",
       "      <td>0.20</td>\n",
       "      <td>0.05</td>\n",
       "      <td>4.42</td>\n",
       "      <td>10.00</td>\n",
       "      <td>32.30</td>\n",
       "      <td>...</td>\n",
       "      <td>403.80</td>\n",
       "      <td>14.611194</td>\n",
       "      <td>8.030000</td>\n",
       "      <td>13.51</td>\n",
       "      <td>532.9</td>\n",
       "      <td>2</td>\n",
       "      <td>0</td>\n",
       "      <td>1</td>\n",
       "      <td>0</td>\n",
       "      <td>0</td>\n",
       "    </tr>\n",
       "    <tr>\n",
       "      <th>1423</th>\n",
       "      <td>0</td>\n",
       "      <td>4.020000</td>\n",
       "      <td>2.69</td>\n",
       "      <td>1.11</td>\n",
       "      <td>0.17</td>\n",
       "      <td>0.03</td>\n",
       "      <td>0.02</td>\n",
       "      <td>4.76</td>\n",
       "      <td>11.14</td>\n",
       "      <td>34.62</td>\n",
       "      <td>...</td>\n",
       "      <td>311.00</td>\n",
       "      <td>10.610932</td>\n",
       "      <td>221.800000</td>\n",
       "      <td>9.25</td>\n",
       "      <td>487.6</td>\n",
       "      <td>2</td>\n",
       "      <td>0</td>\n",
       "      <td>1</td>\n",
       "      <td>0</td>\n",
       "      <td>0</td>\n",
       "    </tr>\n",
       "    <tr>\n",
       "      <th>1424</th>\n",
       "      <td>1</td>\n",
       "      <td>8.970000</td>\n",
       "      <td>6.90</td>\n",
       "      <td>1.05</td>\n",
       "      <td>NaN</td>\n",
       "      <td>0.15</td>\n",
       "      <td>0.04</td>\n",
       "      <td>4.35</td>\n",
       "      <td>11.80</td>\n",
       "      <td>36.70</td>\n",
       "      <td>...</td>\n",
       "      <td>287.30</td>\n",
       "      <td>14.966934</td>\n",
       "      <td>637.000000</td>\n",
       "      <td>5.04</td>\n",
       "      <td>135.2</td>\n",
       "      <td>2</td>\n",
       "      <td>0</td>\n",
       "      <td>1</td>\n",
       "      <td>0</td>\n",
       "      <td>0</td>\n",
       "    </tr>\n",
       "  </tbody>\n",
       "</table>\n",
       "<p>1425 rows × 29 columns</p>\n",
       "</div>"
      ],
      "text/plain": [
       "      GENDER        WBC   NE#   LY#   MO#   EO#   BA#   RBC    HGB    HCT  \\\n",
       "0          1  10.630000  6.31  2.79  0.91  0.56  0.06  4.31  12.70  37.60   \n",
       "1          1   5.080000  2.50  1.87  0.43  0.26  0.02  4.34  12.80  36.90   \n",
       "2          1  13.680000  9.40  2.69  1.55  0.03  0.01  3.18   9.40  27.50   \n",
       "3          1   5.600000  3.94  0.83  0.54  0.26  0.03  3.35  10.50  31.40   \n",
       "4          1   3.570000  2.03  1.25  0.10  0.18  0.01  1.31   5.10  14.30   \n",
       "...      ...        ...   ...   ...   ...   ...   ...   ...    ...    ...   \n",
       "1420       1   9.550000  5.88  3.04  0.55  0.03  0.05  4.81  11.86  38.03   \n",
       "1421       0   8.436995  0.77  0.86  0.17  0.03  0.02  3.72   8.70  28.10   \n",
       "1422       0   7.180000  4.36  2.04  0.53  0.20  0.05  4.42  10.00  32.30   \n",
       "1423       0   4.020000  2.69  1.11  0.17  0.03  0.02  4.76  11.14  34.62   \n",
       "1424       1   8.970000  6.90  1.05   NaN  0.15  0.04  4.35  11.80  36.70   \n",
       "\n",
       "      ...   SDTSD        TSD    FERRITTE  FOLATE     B12  All_Class  \\\n",
       "0     ...  248.90  40.176778  194.000000    5.06   178.2          4   \n",
       "1     ...  348.48  33.482553   57.370000    9.88   197.7          4   \n",
       "2     ...  357.27  20.144429  114.200000    8.37   143.0          4   \n",
       "3     ...  360.60  27.731559  214.200000    6.39   139.9          4   \n",
       "4     ...  223.28  78.860623  303.400000    4.30    50.0          4   \n",
       "...   ...     ...        ...         ...     ...     ...        ...   \n",
       "1420  ...  622.00   5.948553   14.970000   16.01  1537.0          2   \n",
       "1421  ...  312.40   8.322663   22.995831    5.05    87.7          2   \n",
       "1422  ...  403.80  14.611194    8.030000   13.51   532.9          2   \n",
       "1423  ...  311.00  10.610932  221.800000    9.25   487.6          2   \n",
       "1424  ...  287.30  14.966934  637.000000    5.04   135.2          2   \n",
       "\n",
       "      HGB_Anemia_Class  Iron_anemia_Class  Folate_anemia_class  \\\n",
       "0                    0                  0                    0   \n",
       "1                    0                  0                    0   \n",
       "2                    0                  0                    0   \n",
       "3                    0                  0                    0   \n",
       "4                    0                  0                    0   \n",
       "...                ...                ...                  ...   \n",
       "1420                 0                  1                    0   \n",
       "1421                 0                  1                    0   \n",
       "1422                 0                  1                    0   \n",
       "1423                 0                  1                    0   \n",
       "1424                 0                  1                    0   \n",
       "\n",
       "      B12_Anemia_class  \n",
       "0                    1  \n",
       "1                    1  \n",
       "2                    1  \n",
       "3                    1  \n",
       "4                    1  \n",
       "...                ...  \n",
       "1420                 0  \n",
       "1421                 0  \n",
       "1422                 0  \n",
       "1423                 0  \n",
       "1424                 0  \n",
       "\n",
       "[1425 rows x 29 columns]"
      ]
     },
     "execution_count": 36,
     "metadata": {},
     "output_type": "execute_result"
    }
   ],
   "source": [
    "df = pd.read_csv('anemia_dataset.csv', index_col = 0)\n",
    "df"
   ]
  },
  {
   "cell_type": "code",
   "execution_count": null,
   "metadata": {},
   "outputs": [],
   "source": []
  },
  {
   "cell_type": "markdown",
   "metadata": {},
   "source": [
    "*(5 баллов)* Напишите **сколько фичей** и **сколько образцов** в данном датасете. Укажите **сколько классов** анемии здесь представлено. "
   ]
  },
  {
   "cell_type": "code",
   "execution_count": 9,
   "metadata": {},
   "outputs": [],
   "source": [
    "#your code is here"
   ]
  },
  {
   "cell_type": "code",
   "execution_count": null,
   "metadata": {},
   "outputs": [],
   "source": []
  },
  {
   "cell_type": "markdown",
   "metadata": {},
   "source": [
    "*(5 баллов)* Как вы поняли, в датасете есть колонки, отвечающие за тип анемии (*anemia_class*) - приведите их к виду **\"одна колонка с категорией пациента в виде строки\"**. Использовать колонку *All_Class* запрещено \n",
    "\n",
    "> **Доп балл (5 баллов)**: будет дан за использование методов melt/pivot*)"
   ]
  },
  {
   "cell_type": "code",
   "execution_count": 1,
   "metadata": {},
   "outputs": [],
   "source": [
    "#your code is here\n",
    "\n",
    "#Как учитель: Ты вообще в курсе что надо было кодить, не?"
   ]
  },
  {
   "cell_type": "code",
   "execution_count": null,
   "metadata": {},
   "outputs": [],
   "source": []
  },
  {
   "cell_type": "markdown",
   "metadata": {},
   "source": [
    "*(10 баллов)* Можете **добавить любой другой шаг** к анализу, который считаете нужным тут"
   ]
  },
  {
   "cell_type": "code",
   "execution_count": 40,
   "metadata": {},
   "outputs": [],
   "source": [
    "#your code is here, if you want"
   ]
  },
  {
   "cell_type": "code",
   "execution_count": null,
   "metadata": {},
   "outputs": [],
   "source": []
  },
  {
   "cell_type": "markdown",
   "metadata": {},
   "source": [
    "Не забудем **удалить** уже ненужные колонки"
   ]
  },
  {
   "cell_type": "code",
   "execution_count": 16,
   "metadata": {},
   "outputs": [],
   "source": [
    "#your code is here"
   ]
  },
  {
   "cell_type": "code",
   "execution_count": null,
   "metadata": {},
   "outputs": [],
   "source": []
  },
  {
   "cell_type": "code",
   "execution_count": null,
   "metadata": {},
   "outputs": [],
   "source": []
  },
  {
   "cell_type": "markdown",
   "metadata": {},
   "source": [
    "## Часть 1. Анализ числовых признаков (30 баллов)"
   ]
  },
  {
   "cell_type": "markdown",
   "metadata": {},
   "source": [
    "*(5 баллов)* Какие **числовые признаки** есть в этом датасете? И что они **означают**?"
   ]
  },
  {
   "cell_type": "code",
   "execution_count": 31,
   "metadata": {},
   "outputs": [],
   "source": [
    "#your code is here"
   ]
  },
  {
   "cell_type": "code",
   "execution_count": 2,
   "metadata": {},
   "outputs": [
    {
     "ename": "SyntaxError",
     "evalue": "invalid syntax (<ipython-input-2-c19135e0a158>, line 1)",
     "output_type": "error",
     "traceback": [
      "\u001b[1;36m  File \u001b[1;32m\"<ipython-input-2-c19135e0a158>\"\u001b[1;36m, line \u001b[1;32m1\u001b[0m\n\u001b[1;33m    Пу-пу-пу как учитель\u001b[0m\n\u001b[1;37m               ^\u001b[0m\n\u001b[1;31mSyntaxError\u001b[0m\u001b[1;31m:\u001b[0m invalid syntax\n"
     ]
    }
   ],
   "source": [
    "Пу-пу-пу как учитель"
   ]
  },
  {
   "cell_type": "markdown",
   "metadata": {},
   "source": [
    "*(20 баллов)* Проверьте какие переменные распределены **нормально**? **Лог-нормально**? Имеют **мультимодальное** распределение? Приведите соответствующие **графики** и в случае **нормальности** проведите соответствующий **стат.тест**. Предложите **объяснение** с биологической точки зрения, почему у некоторых переменных есть **несколько пиков**.\n",
    "\n",
    "*Возможно, вам будет интересен модуль `scipy.stats`*\n",
    "\n",
    "> **Доп балл *(5 баллов)***: за проведение стат.тестов для лог-нормального распределения.\n",
    "\n",
    "> **Доп балл *(10 баллов)***: за проведение для любого распределения на ваш выбор по методу оценки параметров и генерации выборок"
   ]
  },
  {
   "cell_type": "code",
   "execution_count": 19,
   "metadata": {},
   "outputs": [],
   "source": [
    "#your code is here"
   ]
  },
  {
   "cell_type": "code",
   "execution_count": null,
   "metadata": {},
   "outputs": [],
   "source": [
    "#это поможет вам провести тест на нормальность\n",
    "\n",
    "x = #your code is here\n",
    "shapiro_test = stats.shapiro(x)"
   ]
  },
  {
   "cell_type": "code",
   "execution_count": null,
   "metadata": {},
   "outputs": [],
   "source": []
  },
  {
   "cell_type": "markdown",
   "metadata": {},
   "source": [
    "*(5 баллов)* Если вы хорошо построите **график распределения** переменной `B12`, то увидите заметный **пик** в области больших значений. **Подумайте** откуда мог взяться этот пик."
   ]
  },
  {
   "cell_type": "code",
   "execution_count": 32,
   "metadata": {},
   "outputs": [],
   "source": [
    "#your code is here"
   ]
  },
  {
   "cell_type": "code",
   "execution_count": null,
   "metadata": {},
   "outputs": [],
   "source": []
  },
  {
   "cell_type": "code",
   "execution_count": null,
   "metadata": {},
   "outputs": [],
   "source": []
  },
  {
   "cell_type": "markdown",
   "metadata": {},
   "source": [
    "## Часть 2. Анализ категориальных признаков (20 баллов)"
   ]
  },
  {
   "cell_type": "markdown",
   "metadata": {},
   "source": [
    "*(5 баллов)* Какие **категориальные признаки** есть в этом датасете? Они **порядковые** или **номинальные**?"
   ]
  },
  {
   "cell_type": "code",
   "execution_count": 30,
   "metadata": {},
   "outputs": [],
   "source": [
    "#your code is here"
   ]
  },
  {
   "cell_type": "code",
   "execution_count": null,
   "metadata": {},
   "outputs": [],
   "source": []
  },
  {
   "cell_type": "markdown",
   "metadata": {},
   "source": [
    "*(5 баллов)* Придумайте и добавьте в ваш датасет **два дополнительных порядковых** признака."
   ]
  },
  {
   "cell_type": "code",
   "execution_count": 33,
   "metadata": {},
   "outputs": [],
   "source": [
    "#your code is here"
   ]
  },
  {
   "cell_type": "code",
   "execution_count": null,
   "metadata": {},
   "outputs": [],
   "source": []
  },
  {
   "cell_type": "markdown",
   "metadata": {},
   "source": [
    "*(5 баллов)* Убедитесь в **типах данных** каждого признака. Особенно обратите внимание на **порядковые**. Обычно это должны быть `pd.Categorical` с учётом упорядоченности."
   ]
  },
  {
   "cell_type": "code",
   "execution_count": null,
   "metadata": {},
   "outputs": [],
   "source": [
    "#your code is here"
   ]
  },
  {
   "cell_type": "code",
   "execution_count": null,
   "metadata": {},
   "outputs": [],
   "source": []
  },
  {
   "cell_type": "markdown",
   "metadata": {},
   "source": [
    "*(5 баллов)* Изобразите наглядные **боксплоты** для `B12` по одной из **категориальных** переменных. **Прокомментируйте** ваш результат"
   ]
  },
  {
   "cell_type": "code",
   "execution_count": 35,
   "metadata": {},
   "outputs": [],
   "source": [
    "sns.boxplot(data=df, x='B12', y='YOUR VARIABLE')\n",
    "\n",
    "#your code is here"
   ]
  },
  {
   "cell_type": "code",
   "execution_count": null,
   "metadata": {},
   "outputs": [],
   "source": []
  },
  {
   "cell_type": "code",
   "execution_count": null,
   "metadata": {},
   "outputs": [],
   "source": []
  },
  {
   "cell_type": "markdown",
   "metadata": {},
   "source": [
    "## Часть 3. Группируем данные и анализируем (20 баллов)"
   ]
  },
  {
   "cell_type": "markdown",
   "metadata": {},
   "source": [
    "*(10 баллов)* В датасете есть категориальная переменная `sex`. Определите все переменные, значение которых **зависит от пола**.\n",
    "\n",
    "*ПыСы. Аккуратно формируйте нулевую и альтернативную гипотезу, не забудьте что вы проводите много тестов*"
   ]
  },
  {
   "cell_type": "code",
   "execution_count": 35,
   "metadata": {},
   "outputs": [],
   "source": [
    "#your code is here"
   ]
  },
  {
   "cell_type": "code",
   "execution_count": null,
   "metadata": {},
   "outputs": [],
   "source": []
  },
  {
   "cell_type": "markdown",
   "metadata": {},
   "source": [
    "*(5 баллов)* В случае значимого отличия между группами **визуализируйте эти отличия** любым удобным и наглядным способом. Предложите **биологическую интерпретацию** наблюдаемых различий"
   ]
  },
  {
   "cell_type": "code",
   "execution_count": 35,
   "metadata": {},
   "outputs": [],
   "source": [
    "#your code is here"
   ]
  },
  {
   "cell_type": "code",
   "execution_count": null,
   "metadata": {},
   "outputs": [],
   "source": []
  },
  {
   "cell_type": "markdown",
   "metadata": {},
   "source": [
    "Готовы к задачке посложнее? \n",
    "\n",
    "*(5 баллов)* Для значимых отличий визуализируйте их, **разбивая еще и по диагнозу**. Посмотрите, есть ли **отличия** между здоровыми и каким-либо классом пациентов с анемией."
   ]
  },
  {
   "cell_type": "code",
   "execution_count": 41,
   "metadata": {},
   "outputs": [],
   "source": [
    "#your code is here"
   ]
  },
  {
   "cell_type": "code",
   "execution_count": null,
   "metadata": {},
   "outputs": [],
   "source": []
  },
  {
   "cell_type": "code",
   "execution_count": null,
   "metadata": {},
   "outputs": [],
   "source": []
  },
  {
   "cell_type": "markdown",
   "metadata": {},
   "source": [
    "## Часть 4. Поиск взаимосвязей в данных: Корреляции и Хитмапы (20 баллов)"
   ]
  },
  {
   "cell_type": "markdown",
   "metadata": {},
   "source": [
    "*(5 баллов)* Для здоровых пациентов вычислите **корреляцию между числовыми признаками**. Какие пары признаков имеют **наибольший** коэффициент корреляции, а какие **наименьший**? Попробуйте **порассуждать** почему именно так."
   ]
  },
  {
   "cell_type": "code",
   "execution_count": 42,
   "metadata": {},
   "outputs": [],
   "source": [
    "#your code is here"
   ]
  },
  {
   "cell_type": "code",
   "execution_count": null,
   "metadata": {},
   "outputs": [],
   "source": []
  },
  {
   "cell_type": "markdown",
   "metadata": {},
   "source": [
    "*(10 баллов)* Постройте **heatmap**, в котором все попарно **не стат значимые** корреляции будут отмечены **серым**, а **стат значимые** цветом **в зависимости** от значения коэффициента корреляции."
   ]
  },
  {
   "cell_type": "code",
   "execution_count": null,
   "metadata": {},
   "outputs": [],
   "source": [
    "#your code is here"
   ]
  },
  {
   "cell_type": "code",
   "execution_count": null,
   "metadata": {},
   "outputs": [],
   "source": []
  },
  {
   "cell_type": "markdown",
   "metadata": {},
   "source": [
    "*(5 баллов)* В датасете есть **пара переменных с интересной зависимостью**. Найдите эту пару переменных, наглядно изобразите график, сформируйте **биологическую гипотезу** о природе зависимости. Какой коэффициент корреляции между этими переменными?"
   ]
  },
  {
   "cell_type": "code",
   "execution_count": null,
   "metadata": {},
   "outputs": [],
   "source": [
    "#your code is here"
   ]
  },
  {
   "cell_type": "code",
   "execution_count": null,
   "metadata": {},
   "outputs": [],
   "source": []
  },
  {
   "cell_type": "code",
   "execution_count": null,
   "metadata": {},
   "outputs": [],
   "source": []
  },
  {
   "cell_type": "markdown",
   "metadata": {},
   "source": [
    "## Часть 5. Уменьшение размерности: PCA (40 баллов)"
   ]
  },
  {
   "cell_type": "markdown",
   "metadata": {},
   "source": [
    "Ура! Вы дошли до супер-интересной части!"
   ]
  },
  {
   "cell_type": "markdown",
   "metadata": {},
   "source": [
    "*(10 баллов)*\n",
    "\n",
    "Постройте **PCA** по числовым переменным для четырех версий датасета:\n",
    "* в исходном виде\n",
    "* с применением min-max стандартизации\n",
    "* с применением z-стандартизации\n",
    "* с применением robust стандартизации\n",
    "\n",
    "И не забудьте **визуализировать** результаты."
   ]
  },
  {
   "cell_type": "code",
   "execution_count": null,
   "metadata": {},
   "outputs": [],
   "source": [
    "#создадим объект pca\n",
    "pca = PCA()\n",
    "\n",
    "#запускаем PCA на нашем датасете\n",
    "principal_components = pca.fit_transform(df)"
   ]
  },
  {
   "cell_type": "code",
   "execution_count": null,
   "metadata": {},
   "outputs": [],
   "source": [
    "#визуализируем результат PCA с помощью seaborn или matplotlib \n",
    "plt.scatter(principal_components[:, 1], principal_components[:, 2], alpha=0.5)\n",
    "\n",
    "#теперь можете кастомизировать график на свой вкус\n",
    "\n",
    "#your code is here"
   ]
  },
  {
   "cell_type": "code",
   "execution_count": null,
   "metadata": {},
   "outputs": [],
   "source": [
    "#и попробуйте отшкалировать ваши данные и повторить анализ\n",
    "\n",
    "#your code is here"
   ]
  },
  {
   "cell_type": "code",
   "execution_count": null,
   "metadata": {},
   "outputs": [],
   "source": []
  },
  {
   "cell_type": "markdown",
   "metadata": {},
   "source": [
    "*(5 баллов)* Посмотрите внимательно на изображения вариантов PCA. **Чем** они отличаются?"
   ]
  },
  {
   "cell_type": "code",
   "execution_count": null,
   "metadata": {},
   "outputs": [],
   "source": [
    "#your code is here"
   ]
  },
  {
   "cell_type": "code",
   "execution_count": null,
   "metadata": {},
   "outputs": [],
   "source": []
  },
  {
   "cell_type": "markdown",
   "metadata": {},
   "source": [
    "*(10 баллов)* Выберите вариант, который на ваш взгляд, **лучший**. Объясните свой **выбор** и приведите **долю объясненной дисперсии** для первых 5 компонент. И постройте подобный **график** для ваших данных."
   ]
  },
  {
   "cell_type": "markdown",
   "metadata": {},
   "source": [
    "![variance_pca](variance_pca.jpg)"
   ]
  },
  {
   "cell_type": "code",
   "execution_count": null,
   "metadata": {},
   "outputs": [],
   "source": [
    "#Получаем долю объяснённой дисперсии\n",
    "explained_variance_ratio = pca.explained_variance_ratio_\n",
    "explained_variance_cum = np.cumsum(explained_variance_ratio)\n",
    "\n",
    "#your code is here"
   ]
  },
  {
   "cell_type": "code",
   "execution_count": null,
   "metadata": {},
   "outputs": [],
   "source": []
  },
  {
   "cell_type": "markdown",
   "metadata": {},
   "source": [
    "*(5 баллов)* Какие переменные дают **больший вклад** в первую компоненту? А во вторую?"
   ]
  },
  {
   "cell_type": "code",
   "execution_count": null,
   "metadata": {},
   "outputs": [],
   "source": [
    "first_component = pca.components_[0]\n",
    "\n",
    "#your code is here"
   ]
  },
  {
   "cell_type": "code",
   "execution_count": null,
   "metadata": {},
   "outputs": [],
   "source": []
  },
  {
   "cell_type": "markdown",
   "metadata": {},
   "source": [
    "*(5 баллов)* **Разукрасьте** ваш лучший вариант по:\n",
    "* полу\n",
    "* диагнозу\n",
    "* статусу больной/здоровый"
   ]
  },
  {
   "cell_type": "code",
   "execution_count": null,
   "metadata": {},
   "outputs": [],
   "source": [
    "#your code is here"
   ]
  },
  {
   "cell_type": "code",
   "execution_count": null,
   "metadata": {},
   "outputs": [],
   "source": []
  },
  {
   "cell_type": "markdown",
   "metadata": {},
   "source": [
    "*(5 баллов)* **Прокомментируйте** то что получилось"
   ]
  },
  {
   "cell_type": "code",
   "execution_count": null,
   "metadata": {},
   "outputs": [],
   "source": [
    "#your code is here"
   ]
  },
  {
   "cell_type": "code",
   "execution_count": null,
   "metadata": {},
   "outputs": [],
   "source": []
  },
  {
   "cell_type": "markdown",
   "metadata": {},
   "source": [
    "**Отлично! Вы дошли до конца первой домашки!**\n",
    "\n",
    "Поделитесь с нами вашими ощущениями об этой домашке, если хотите. Было это сложно или легко, понятно или запутанно, долго или быстро. Напишите что нового вы узнали. "
   ]
  },
  {
   "cell_type": "code",
   "execution_count": null,
   "metadata": {},
   "outputs": [],
   "source": [
    "#that's your turn"
   ]
  },
  {
   "cell_type": "code",
   "execution_count": null,
   "metadata": {},
   "outputs": [],
   "source": []
  },
  {
   "cell_type": "markdown",
   "metadata": {},
   "source": [
    "## Давайте знакомиться"
   ]
  },
  {
   "cell_type": "markdown",
   "metadata": {},
   "source": [
    "Расскажите нам о вашем **любимом супергерое**. Marvel, DC, Archie Comics, Bubble Comics...что угодно"
   ]
  },
  {
   "cell_type": "code",
   "execution_count": 2,
   "metadata": {},
   "outputs": [],
   "source": [
    "# I'm 🦇 ᗷᗩTᗰᗩᑎ 🦇 \n",
    "Мне тож бэтмен нрав кнш"
   ]
  },
  {
   "cell_type": "markdown",
   "metadata": {},
   "source": [
    "Ну такая себе домашка конечно, Оль, ты там получше в том году делала конечно. Совсем расслабилась, так нельзя. Соберись!"
   ]
  },
  {
   "cell_type": "code",
   "execution_count": null,
   "metadata": {},
   "outputs": [],
   "source": []
  }
 ],
 "metadata": {
  "kernelspec": {
   "display_name": "Python 3",
   "language": "python",
   "name": "python3"
  },
  "language_info": {
   "codemirror_mode": {
    "name": "ipython",
    "version": 3
   },
   "file_extension": ".py",
   "mimetype": "text/x-python",
   "name": "python",
   "nbconvert_exporter": "python",
   "pygments_lexer": "ipython3",
   "version": "3.7.7"
  }
 },
 "nbformat": 4,
 "nbformat_minor": 4
}
